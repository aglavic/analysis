{
 "cells": [
  {
   "cell_type": "code",
   "execution_count": 14,
   "metadata": {},
   "outputs": [],
   "source": [
    "%matplotlib inline\n",
    "import matplotlib.pyplot as plt\n",
    "import numpy as np\n",
    "from refnx.dataset import Data1D\n",
    "from refnx.reflect import MaterialSLD, SLD, Slab, Structure, ReflectModel\n",
    "from refnx.analysis import CurveFitter, Objective, Parameter"
   ]
  },
  {
   "cell_type": "code",
   "execution_count": 11,
   "metadata": {},
   "outputs": [],
   "source": [
    "# load the data\n",
    "data = Data1D('c_PLP0011859_q.txt')"
   ]
  },
  {
   "cell_type": "code",
   "execution_count": 27,
   "metadata": {},
   "outputs": [],
   "source": [
    "# create Scatterers\n",
    "si = MaterialSLD('Si', 2.33)\n",
    "sio2 = MaterialSLD('SiO2', 2.2)\n",
    "d2o = MaterialSLD('D2O', 1.107)\n",
    "polymer = SLD(2.3)\n",
    "\n",
    "# create Slabs from the scatterers\n",
    "sio2_l = sio2(15, 3)\n",
    "polymer_l = polymer(200, 3)"
   ]
  },
  {
   "cell_type": "code",
   "execution_count": 28,
   "metadata": {},
   "outputs": [],
   "source": [
    "# create a structure and model\n",
    "s = si | sio2_l | polymer_l | d2o(0, 3)\n",
    "model = ReflectModel(s)"
   ]
  },
  {
   "cell_type": "code",
   "execution_count": 34,
   "metadata": {},
   "outputs": [],
   "source": [
    "# parameters we want to fit\n",
    "sio2_l.thick.setp(vary=True, bounds=(5, 30))\n",
    "sio2.density.setp(vary=True, bounds=(2.25, 2.33))\n",
    "\n",
    "polymer_l.thick.setp(vary=True, bounds=(200, 300))\n",
    "polymer.real.setp(vary=True, bounds=(2.0, 3.0))\n",
    "polymer_l.rough.setp(vary=True, bounds=(1, 10))\n",
    "\n",
    "# this would correspond to the liquid/polymer interface\n",
    "s[-1].rough.setp(vary=True, bounds=(1, 10))\n",
    "\n",
    "model.bkg.setp(vary=True, bounds=(1e-7, 1e-6))"
   ]
  },
  {
   "cell_type": "code",
   "execution_count": 35,
   "metadata": {},
   "outputs": [],
   "source": [
    "objective = Objective(model, data)"
   ]
  },
  {
   "cell_type": "code",
   "execution_count": 36,
   "metadata": {},
   "outputs": [],
   "source": [
    "fitter = CurveFitter(objective)"
   ]
  },
  {
   "cell_type": "code",
   "execution_count": 37,
   "metadata": {},
   "outputs": [
    {
     "name": "stderr",
     "output_type": "stream",
     "text": [
      "24it [00:02,  8.32it/s]\n"
     ]
    },
    {
     "data": {
      "text/plain": [
       "   covar: array([[ 2.92485595e-16, -9.48467500e-10,  1.22218776e-11,\n",
       "         5.44773160e-10, -2.57348289e-11, -8.17186622e-10,\n",
       "         8.17828821e-10],\n",
       "       [-9.48467500e-10,  1.03812016e+00, -2.23644873e-02,\n",
       "        -7.71594550e-01,  4.49818879e-03, -6.48074411e-01,\n",
       "        -9.24532295e-02],\n",
       "       [ 1.22218776e-11, -2.23644873e-02,  5.53244864e-04,\n",
       "         1.67600799e-02, -6.92929931e-05,  1.60728569e-02,\n",
       "         1.99759189e-03],\n",
       "       [ 5.44773160e-10, -7.71594550e-01,  1.67600799e-02,\n",
       "         5.82309012e-01, -3.10145149e-03,  4.91328296e-01,\n",
       "         6.68793674e-02],\n",
       "       [-2.57348289e-11,  4.49818879e-03, -6.92929931e-05,\n",
       "        -3.10145149e-03,  9.93204910e-05, -3.01921722e-03,\n",
       "        -7.14800621e-04],\n",
       "       [-8.17186622e-10, -6.48074411e-01,  1.60728569e-02,\n",
       "         4.91328296e-01, -3.01921722e-03,  6.03039029e-01,\n",
       "         4.67781792e-02],\n",
       "       [ 8.17828821e-10, -9.24532295e-02,  1.99759189e-03,\n",
       "         6.68793674e-02, -7.14800621e-04,  4.67781792e-02,\n",
       "         1.60538296e-02]])\n",
       "     fun: -2422.0834121923403\n",
       "     jac: array([ 8.05638258e+06, -2.25724743e+01, -7.77890823e-01, -6.39651664e+00,\n",
       "        8.57413402e+01, -5.05356142e+00,  7.01684262e+00])\n",
       " message: 'Optimization terminated successfully.'\n",
       "    nfev: 3073\n",
       "     nit: 24\n",
       "  stderr: array([1.71022102e-08, 1.01888182e+00, 2.35211578e-02, 7.63091746e-01,\n",
       "       9.96596663e-03, 7.76555876e-01, 1.26703708e-01])\n",
       " success: True\n",
       "       x: array([5.23626475e-07, 2.93546129e+01, 2.30074647e+00, 2.66401864e+02,\n",
       "       2.66191923e+00, 9.84295625e+00, 5.44469029e+00])"
      ]
     },
     "execution_count": 37,
     "metadata": {},
     "output_type": "execute_result"
    }
   ],
   "source": [
    "fitter.fit('differential_evolution')"
   ]
  },
  {
   "cell_type": "code",
   "execution_count": 40,
   "metadata": {},
   "outputs": [
    {
     "data": {
      "image/png": "[encoded data removed]",
      "text/plain": [
       "<Figure size 432x288 with 1 Axes>"
      ]
     },
     "metadata": {
      "needs_background": "light"
     },
     "output_type": "display_data"
    }
   ],
   "source": [
    "objective.plot()\n",
    "plt.yscale('log')\n",
    "plt.xscale('log')"
   ]
  },
  {
   "cell_type": "code",
   "execution_count": 41,
   "metadata": {},
   "outputs": [
    {
     "data": {
      "text/plain": [
       "(<Figure size 432x288 with 1 Axes>,\n",
       " <matplotlib.axes._subplots.AxesSubplot at 0x7f93839996d0>)"
      ]
     },
     "execution_count": 41,
     "metadata": {},
     "output_type": "execute_result"
    },
    {
     "data": {
      "image/png": "[encoded data removed]",
      "text/plain": [
       "<Figure size 432x288 with 1 Axes>"
      ]
     },
     "metadata": {
      "needs_background": "light"
     },
     "output_type": "display_data"
    }
   ],
   "source": [
    "s.plot()"
   ]
  },
  {
   "cell_type": "code",
   "execution_count": null,
   "metadata": {},
   "outputs": [],
   "source": []
  }
 ],
 "metadata": {
  "kernelspec": {
   "display_name": "Python 3",
   "language": "python",
   "name": "python3"
  },
  "language_info": {
   "codemirror_mode": {
    "name": "ipython",
    "version": 3
   },
   "file_extension": ".py",
   "mimetype": "text/x-python",
   "name": "python",
   "nbconvert_exporter": "python",
   "pygments_lexer": "ipython3",
   "version": "3.8.2"
  }
 },
 "nbformat": 4,
 "nbformat_minor": 4
}
